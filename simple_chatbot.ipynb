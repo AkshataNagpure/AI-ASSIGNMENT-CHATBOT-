{
  "nbformat": 4,
  "nbformat_minor": 0,
  "metadata": {
    "colab": {
      "provenance": [],
      "include_colab_link": true
    },
    "kernelspec": {
      "name": "python3",
      "display_name": "Python 3"
    },
    "language_info": {
      "name": "python"
    }
  },
  "cells": [
    {
      "cell_type": "markdown",
      "metadata": {
        "id": "view-in-github",
        "colab_type": "text"
      },
      "source": [
        "<a href=\"https://colab.research.google.com/github/AkshataNagpure/AI-ASSIGNMENT-CHATBOT-/blob/main/simple_chatbot.ipynb\" target=\"_parent\"><img src=\"https://colab.research.google.com/assets/colab-badge.svg\" alt=\"Open In Colab\"/></a>"
      ]
    },
    {
      "cell_type": "code",
      "execution_count": null,
      "metadata": {
        "id": "Zf1pR7icklGD"
      },
      "outputs": [],
      "source": [
        "# import required libraries\n",
        "import random\n",
        "\n",
        "# define bot's responses\n",
        "responses = {\n",
        "    \"hi\": [\"Hello!\", \"Hi there!\", \"Hi! How can I assist you?\"],\n",
        "    \"bye\": [\"Goodbye!\", \"See you later!\", \"Bye! Have a great day.\"],\n",
        "    \"default\": [\"I'm sorry, I didn't understand what you meant. Can you please rephrase?\",\n",
        "                \"I'm not sure what you mean. Could you please provide more context?\"]\n",
        "}\n",
        "\n",
        "# define function to generate bot's response\n",
        "def get_bot_response(user_message):\n",
        "    if user_message in responses:\n",
        "        return random.choice(responses[user_message])\n",
        "    else:\n",
        "        return random.choice(responses[\"default\"])\n",
        "\n",
        "# start chatting with the bot\n",
        "while True:\n",
        "    user_message = input(\"You: \")\n",
        "    if user_message.lower() == \"quit\":\n",
        "        break\n",
        "    bot_response = get_bot_response(user_message.lower())\n",
        "    print(\"Bot: \" + bot_response)\n"
      ]
    }
  ]
}